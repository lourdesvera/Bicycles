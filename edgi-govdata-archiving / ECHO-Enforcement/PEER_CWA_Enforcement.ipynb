{
  "nbformat": 4,
  "nbformat_minor": 0,
  "metadata": {
    "colab": {
      "provenance": [],
      "collapsed_sections": [],
      "authorship_tag": "ABX9TyNLM/kKH18X5RowiSE+k5WE",
      "include_colab_link": true
    },
    "kernelspec": {
      "name": "python3",
      "display_name": "Python 3"
    },
    "language_info": {
      "name": "python"
    }
  },
  "cells": [
    {
      "cell_type": "markdown",
      "metadata": {
        "id": "view-in-github",
        "colab_type": "text"
      },
      "source": [
        "<a href=\"https://colab.research.google.com/github/lourdesvera/Bicycles/blob/main/edgi-govdata-archiving%20/%20ECHO-Enforcement/PEER_CWA_Enforcement.ipynb\" target=\"_parent\"><img src=\"https://colab.research.google.com/assets/colab-badge.svg\" alt=\"Open In Colab\"/></a>"
      ]
    },
    {
      "cell_type": "markdown",
      "source": [
        "#Title"
      ],
      "metadata": {
        "id": "egDxKXYl0BSG"
      }
    },
    {
      "cell_type": "code",
      "source": [
        "import pandas as pd"
      ],
      "metadata": {
        "id": "UTrbInVd0_UD"
      },
      "execution_count": 3,
      "outputs": []
    },
    {
      "cell_type": "code",
      "execution_count": 7,
      "metadata": {
        "colab": {
          "base_uri": "https://localhost:8080/"
        },
        "id": "6PgZbIlAz-RP",
        "outputId": "19c49d8a-ec03-4ce4-9939-0ba2bed6da20"
      },
      "outputs": [
        {
          "output_type": "stream",
          "name": "stdout",
          "text": [
            "CaseNumber\n",
            "CaseName\n",
            "CaseCategoryDesc\n",
            "CaseStatusDesc\n",
            "PrimaryLaw\n",
            "PrimarySection\n",
            "DateFiled\n",
            "SettlementDate\n",
            "FedPenalty\n",
            "SEPCost\n",
            "TotalCompActionAmt\n",
            "SettlementCnt\n"
          ]
        }
      ],
      "source": [
        "penalties = pd.read_csv(\"https://raw.githubusercontent.com/edgi-govdata-archiving/ECHO-Enforcement/main/PEER/CWA-Penalties-FL.csv\")\n",
        "cases = pd.read_csv(\"https://raw.githubusercontent.com/edgi-govdata-archiving/ECHO-Enforcement/main/PEER/CWA_Cases_FL.csv\")"
      ]
    },
    {
      "cell_type": "code",
      "source": [
        "#Check out the column names and data info for penalties\n",
        "for col in penalties.columns:\n",
        "    print(col)"
      ],
      "metadata": {
        "colab": {
          "base_uri": "https://localhost:8080/"
        },
        "id": "kOoy607m2amQ",
        "outputId": "2780eea5-7b19-43e4-fdee-f95c2d192b6e"
      },
      "execution_count": 8,
      "outputs": [
        {
          "output_type": "stream",
          "name": "stdout",
          "text": [
            "NPDES_ID\n",
            "ENF_IDENTIFIER\n",
            "ACTIVITY_ID\n",
            "ACTIVITY_TYPE_CODE\n",
            "ENF_TYPE_CODE\n",
            "ENF_TYPE_DESC\n",
            "AGENCY\n",
            "SETTLEMENT_ENTERED_DATE\n",
            "FED_PENALTY_ASSESSED_AMT\n",
            "STATE_LOCAL_PENALTY_AMT\n",
            "FAC_NAME\n",
            "FAC_STREET\n",
            "FAC_CITY\n",
            "FAC_STATE\n",
            "FAC_ZIP\n",
            "FAC_COUNTY\n",
            "FAC_EPA_REGION\n",
            "FAC_LAT\n",
            "FAC_LONG\n",
            "FAC_DERIVED_WBD\n",
            "FAC_DERIVED_CD113\n",
            "FAC_PERCENT_MINORITY\n",
            "FAC_POP_DEN\n",
            "FAC_DERIVED_HUC\n",
            "FAC_SIC_CODES\n",
            "FAC_NAICS_CODES\n",
            "DFR_URL\n"
          ]
        }
      ]
    },
    {
      "cell_type": "code",
      "source": [
        "#Check out the column names and data info for cases\n",
        "for col in cases.columns:\n",
        "    print(col)"
      ],
      "metadata": {
        "colab": {
          "base_uri": "https://localhost:8080/"
        },
        "id": "ex3Mn32B2ep6",
        "outputId": "d60544eb-a20a-4ebc-a2e9-87554e88cfcf"
      },
      "execution_count": 10,
      "outputs": [
        {
          "output_type": "stream",
          "name": "stdout",
          "text": [
            "CaseNumber\n",
            "CaseName\n",
            "CaseCategoryDesc\n",
            "CaseStatusDesc\n",
            "PrimaryLaw\n",
            "PrimarySection\n",
            "DateFiled\n",
            "SettlementDate\n",
            "FedPenalty\n",
            "SEPCost\n",
            "TotalCompActionAmt\n",
            "SettlementCnt\n"
          ]
        }
      ]
    },
    {
      "cell_type": "markdown",
      "source": [
        "#Clean Data\n"
      ],
      "metadata": {
        "id": "rGrTuGSa2wwt"
      }
    },
    {
      "cell_type": "code",
      "source": [
        "#new data frames for the section\n",
        "c1 = cases\n",
        "p1 = penalties"
      ],
      "metadata": {
        "id": "aNpDUR2134od"
      },
      "execution_count": 14,
      "outputs": []
    },
    {
      "cell_type": "markdown",
      "source": [
        "NOTE: I don't know if Date Filed or SettlementDate is SETTLEMENT_ENTERED_DATE (this is look upable, just leaving rn so it's a note for next time\n"
      ],
      "metadata": {
        "id": "WB5oLfl4AcXD"
      }
    },
    {
      "cell_type": "code",
      "source": [
        "#Clean Dates - cases settlement date and DateFiled\n",
        "c1['SettlementDate'] = pd.to_datetime(c1.SettlementDate)\n",
        "c1['SettlementDate'] = c1['SettlementDate'].dt.strftime('%m-%d-%Y')\n",
        "\n",
        "c1['DateFiled'] = pd.to_datetime(c1.DateFiled)\n",
        "c1['DateFiled'] = c1['DateFiled'].dt.strftime('%m-%d-%Y')\n"
      ],
      "metadata": {
        "id": "4Suh9Vaz26eb"
      },
      "execution_count": 15,
      "outputs": []
    },
    {
      "cell_type": "code",
      "source": [
        "#Clean Dates - penalties\n",
        "p1['DateFiled'] = pd.to_datetime(p1.SETTLEMENT_ENTERED_DATE)\n",
        "p1['DateFiled'] = p1['DateFiled'].dt.strftime('%m-%d-%Y')\n",
        "\n",
        "p1['FedPenalty'] = p1['FED_PENALTY_ASSESSED_AMT']"
      ],
      "metadata": {
        "id": "brupS0G24P18"
      },
      "execution_count": 31,
      "outputs": []
    },
    {
      "cell_type": "code",
      "source": [
        "#make index column with date filed and "
      ],
      "metadata": {
        "id": "iu9pCyg-97bh"
      },
      "execution_count": null,
      "outputs": []
    },
    {
      "cell_type": "code",
      "source": [
        "#Merge tables\n",
        "result = c1.merge(p1, how = 'left', on = ['FedPenalty', 'DateFiled'])\n",
        "print(result)"
      ],
      "metadata": {
        "colab": {
          "base_uri": "https://localhost:8080/"
        },
        "id": "5I_EkFgn28WO",
        "outputId": "ad31d447-e2fb-421f-b0ea-9f1191af8ed3"
      },
      "execution_count": 34,
      "outputs": [
        {
          "output_type": "stream",
          "name": "stdout",
          "text": [
            "        CaseNumber                                           CaseName  \\\n",
            "0     02-2011-0016          NVR, Inc. d/b/a Ryan Homes (NC - no NLPs)   \n",
            "1     04-1975-0001                                    ALTON BOX BOARD   \n",
            "2     04-1976-0004                                HUDSON PULP & PAPER   \n",
            "3     04-1976-0005                               JACKSONVILL SUB-UTIL   \n",
            "4     04-1976-0008                                 SOUTHERN UTILITIES   \n",
            "...            ...                                                ...   \n",
            "2050  HQ-2009-8002                       Hydro Aluminum North America   \n",
            "2051  HQ-2013-8004  T-Mobile US, Inc., successor by merger to Metr...   \n",
            "2052  HQ-2017-6001                         JP Morgan Chase Bank, N.A.   \n",
            "2053  WV-N00000636  WARLICK, LLC (Permit WVU012007) Administrative...   \n",
            "2054  WV-N00000801  ROBERT SHAVER (Permit WVU007495) Administrativ...   \n",
            "\n",
            "             CaseCategoryDesc       CaseStatusDesc PrimaryLaw PrimarySection  \\\n",
            "0                    Judicial  Final Order Entered        CWA        301/402   \n",
            "1                    Judicial               Closed        CWA            301   \n",
            "2                    Judicial               Closed        CWA            301   \n",
            "3                    Judicial               Closed        CWA            402   \n",
            "4                    Judicial               Closed        CWA            CWA   \n",
            "...                       ...                  ...        ...            ...   \n",
            "2050  Administrative - Formal   Final Order Issued        CWA        301/402   \n",
            "2051  Administrative - Formal   Final Order Issued      EPCRA            312   \n",
            "2052  Administrative - Formal  Compliance Achieved        CWA           311J   \n",
            "2053  Administrative - Formal               Closed        CWA            CWA   \n",
            "2054  Administrative - Formal               Closed        CWA            CWA   \n",
            "\n",
            "       DateFiled SettlementDate_x  FedPenalty  SEPCost  ...  FAC_LONG  \\\n",
            "0     06-15-2017       09-07-2017    425000.0      0.0  ...       NaN   \n",
            "1     05-22-1975       02-28-1977      5000.0      0.0  ...       NaN   \n",
            "2     04-07-1977       04-07-1977     36780.0      0.0  ...       NaN   \n",
            "3     01-18-1979       05-20-1983      1000.0      0.0  ...       NaN   \n",
            "4     03-10-1977       07-13-1977      1000.0      0.0  ...       NaN   \n",
            "...          ...              ...         ...      ...  ...       ...   \n",
            "2050  08-13-2010       08-13-2010    119365.0      0.0  ...       NaN   \n",
            "2051  12-05-2013       12-05-2013     16913.0      0.0  ...       NaN   \n",
            "2052  09-19-2017       09-19-2017    230392.0      0.0  ...       NaN   \n",
            "2053  05-31-2012       05-31-2012         0.0      0.0  ...       NaN   \n",
            "2054  12-01-2011       12-01-2011         0.0      0.0  ...       NaN   \n",
            "\n",
            "      FAC_DERIVED_WBD FAC_DERIVED_CD113 FAC_PERCENT_MINORITY  FAC_POP_DEN  \\\n",
            "0                 NaN               NaN                  NaN          NaN   \n",
            "1                 NaN               NaN                  NaN          NaN   \n",
            "2                 NaN               NaN                  NaN          NaN   \n",
            "3                 NaN               NaN                  NaN          NaN   \n",
            "4                 NaN               NaN                  NaN          NaN   \n",
            "...               ...               ...                  ...          ...   \n",
            "2050              NaN               NaN                  NaN          NaN   \n",
            "2051              NaN               NaN                  NaN          NaN   \n",
            "2052              NaN               NaN                  NaN          NaN   \n",
            "2053              NaN               NaN                  NaN          NaN   \n",
            "2054              NaN               NaN                  NaN          NaN   \n",
            "\n",
            "     FAC_DERIVED_HUC FAC_SIC_CODES FAC_NAICS_CODES DFR_URL SettlementDate_y  \n",
            "0                NaN           NaN             NaN     NaN              NaN  \n",
            "1                NaN           NaN             NaN     NaN              NaN  \n",
            "2                NaN           NaN             NaN     NaN              NaN  \n",
            "3                NaN           NaN             NaN     NaN              NaN  \n",
            "4                NaN           NaN             NaN     NaN              NaN  \n",
            "...              ...           ...             ...     ...              ...  \n",
            "2050             NaN           NaN             NaN     NaN              NaN  \n",
            "2051             NaN           NaN             NaN     NaN              NaN  \n",
            "2052             NaN           NaN             NaN     NaN              NaN  \n",
            "2053             NaN           NaN             NaN     NaN              NaN  \n",
            "2054             NaN           NaN             NaN     NaN              NaN  \n",
            "\n",
            "[2055 rows x 40 columns]\n"
          ]
        }
      ]
    },
    {
      "cell_type": "code",
      "source": [
        "#Rename Columns\n",
        "#newdata = data.iloc[0:6, [47,46, 17, 18, 20, 21, 31, 36, 37, 38, 39, 40, 41, 42, 44, 45, 48]]"
      ],
      "metadata": {
        "id": "eP72tgcW3Aqj"
      },
      "execution_count": null,
      "outputs": []
    },
    {
      "cell_type": "code",
      "source": [
        "!pip install chart_studio\n",
        "import chart_studio\n",
        "from chart_studio import plotly\n",
        "import chart_studio.plotly as py"
      ],
      "metadata": {
        "colab": {
          "base_uri": "https://localhost:8080/"
        },
        "id": "ixYLsLQw6GxB",
        "outputId": "61945f1a-e94a-4a3d-c026-4a424d9cf75c"
      },
      "execution_count": 27,
      "outputs": [
        {
          "output_type": "stream",
          "name": "stdout",
          "text": [
            "Looking in indexes: https://pypi.org/simple, https://us-python.pkg.dev/colab-wheels/public/simple/\n",
            "Collecting chart_studio\n",
            "  Downloading chart_studio-1.1.0-py3-none-any.whl (64 kB)\n",
            "\u001b[K     |████████████████████████████████| 64 kB 2.2 MB/s \n",
            "\u001b[?25hRequirement already satisfied: six in /usr/local/lib/python3.7/dist-packages (from chart_studio) (1.15.0)\n",
            "Requirement already satisfied: requests in /usr/local/lib/python3.7/dist-packages (from chart_studio) (2.23.0)\n",
            "Collecting retrying>=1.3.3\n",
            "  Downloading retrying-1.3.3.tar.gz (10 kB)\n",
            "Requirement already satisfied: plotly in /usr/local/lib/python3.7/dist-packages (from chart_studio) (5.5.0)\n",
            "Requirement already satisfied: tenacity>=6.2.0 in /usr/local/lib/python3.7/dist-packages (from plotly->chart_studio) (8.1.0)\n",
            "Requirement already satisfied: idna<3,>=2.5 in /usr/local/lib/python3.7/dist-packages (from requests->chart_studio) (2.10)\n",
            "Requirement already satisfied: certifi>=2017.4.17 in /usr/local/lib/python3.7/dist-packages (from requests->chart_studio) (2022.9.24)\n",
            "Requirement already satisfied: urllib3!=1.25.0,!=1.25.1,<1.26,>=1.21.1 in /usr/local/lib/python3.7/dist-packages (from requests->chart_studio) (1.24.3)\n",
            "Requirement already satisfied: chardet<4,>=3.0.2 in /usr/local/lib/python3.7/dist-packages (from requests->chart_studio) (3.0.4)\n",
            "Building wheels for collected packages: retrying\n",
            "  Building wheel for retrying (setup.py) ... \u001b[?25l\u001b[?25hdone\n",
            "  Created wheel for retrying: filename=retrying-1.3.3-py3-none-any.whl size=11447 sha256=77a575215ae2d0a9dd5748a11c99d75ae006da345d8d3909677be5ac63452e08\n",
            "  Stored in directory: /root/.cache/pip/wheels/f9/8d/8d/f6af3f7f9eea3553bc2fe6d53e4b287dad18b06a861ac56ddf\n",
            "Successfully built retrying\n",
            "Installing collected packages: retrying, chart-studio\n",
            "Successfully installed chart-studio-1.1.0 retrying-1.3.3\n"
          ]
        }
      ]
    },
    {
      "cell_type": "code",
      "source": [
        "import plotly.figure_factory as ff"
      ],
      "metadata": {
        "id": "6n1-OjUx6LW2"
      },
      "execution_count": 28,
      "outputs": []
    },
    {
      "cell_type": "code",
      "source": [
        "#The below code selects columns of interest\n",
        "# We'll only print the first 6 lines, since this is a big dataset! \n",
        "table = ff.create_table(result)\n",
        "py.iplot(table, filename='Result')"
      ],
      "metadata": {
        "colab": {
          "base_uri": "https://localhost:8080/",
          "height": 363
        },
        "id": "ySMUctxt2kQ2",
        "outputId": "08fdb97f-7d17-4035-c35e-910cc79b9f39"
      },
      "execution_count": 30,
      "outputs": [
        {
          "output_type": "error",
          "ename": "KeyboardInterrupt",
          "evalue": "ignored",
          "traceback": [
            "\u001b[0;31m---------------------------------------------------------------------------\u001b[0m",
            "\u001b[0;31mKeyboardInterrupt\u001b[0m                         Traceback (most recent call last)",
            "\u001b[0;32m<ipython-input-30-395ee915a268>\u001b[0m in \u001b[0;36m<module>\u001b[0;34m\u001b[0m\n\u001b[1;32m      1\u001b[0m \u001b[0;31m#The below code selects columns of interest\u001b[0m\u001b[0;34m\u001b[0m\u001b[0;34m\u001b[0m\u001b[0;34m\u001b[0m\u001b[0m\n\u001b[1;32m      2\u001b[0m \u001b[0;31m# We'll only print the first 6 lines, since this is a big dataset!\u001b[0m\u001b[0;34m\u001b[0m\u001b[0;34m\u001b[0m\u001b[0;34m\u001b[0m\u001b[0m\n\u001b[0;32m----> 3\u001b[0;31m \u001b[0mtable\u001b[0m \u001b[0;34m=\u001b[0m \u001b[0mff\u001b[0m\u001b[0;34m.\u001b[0m\u001b[0mcreate_table\u001b[0m\u001b[0;34m(\u001b[0m\u001b[0mresult\u001b[0m\u001b[0;34m)\u001b[0m\u001b[0;34m\u001b[0m\u001b[0;34m\u001b[0m\u001b[0m\n\u001b[0m\u001b[1;32m      4\u001b[0m \u001b[0mpy\u001b[0m\u001b[0;34m.\u001b[0m\u001b[0miplot\u001b[0m\u001b[0;34m(\u001b[0m\u001b[0mtable\u001b[0m\u001b[0;34m,\u001b[0m \u001b[0mfilename\u001b[0m\u001b[0;34m=\u001b[0m\u001b[0;34m'Result'\u001b[0m\u001b[0;34m)\u001b[0m\u001b[0;34m\u001b[0m\u001b[0;34m\u001b[0m\u001b[0m\n",
            "\u001b[0;32m/usr/local/lib/python3.7/dist-packages/plotly/figure_factory/_table.py\u001b[0m in \u001b[0;36mcreate_table\u001b[0;34m(table_text, colorscale, font_colors, index, index_title, annotation_offset, height_constant, hoverinfo, **kwargs)\u001b[0m\n\u001b[1;32m    128\u001b[0m         \u001b[0mindex_title\u001b[0m\u001b[0;34m,\u001b[0m\u001b[0;34m\u001b[0m\u001b[0;34m\u001b[0m\u001b[0m\n\u001b[1;32m    129\u001b[0m         \u001b[0mannotation_offset\u001b[0m\u001b[0;34m,\u001b[0m\u001b[0;34m\u001b[0m\u001b[0;34m\u001b[0m\u001b[0m\n\u001b[0;32m--> 130\u001b[0;31m         \u001b[0;34m**\u001b[0m\u001b[0mkwargs\u001b[0m\u001b[0;34m\u001b[0m\u001b[0;34m\u001b[0m\u001b[0m\n\u001b[0m\u001b[1;32m    131\u001b[0m     ).make_table_annotations()\n\u001b[1;32m    132\u001b[0m \u001b[0;34m\u001b[0m\u001b[0m\n",
            "\u001b[0;32m/usr/local/lib/python3.7/dist-packages/plotly/figure_factory/_table.py\u001b[0m in \u001b[0;36mmake_table_annotations\u001b[0;34m(self)\u001b[0m\n\u001b[1;32m    278\u001b[0m                         \u001b[0mxanchor\u001b[0m\u001b[0;34m=\u001b[0m\u001b[0;34m\"left\"\u001b[0m\u001b[0;34m,\u001b[0m\u001b[0;34m\u001b[0m\u001b[0;34m\u001b[0m\u001b[0m\n\u001b[1;32m    279\u001b[0m                         \u001b[0mfont\u001b[0m\u001b[0;34m=\u001b[0m\u001b[0mdict\u001b[0m\u001b[0;34m(\u001b[0m\u001b[0mcolor\u001b[0m\u001b[0;34m=\u001b[0m\u001b[0mfont_color\u001b[0m\u001b[0;34m)\u001b[0m\u001b[0;34m,\u001b[0m\u001b[0;34m\u001b[0m\u001b[0;34m\u001b[0m\u001b[0m\n\u001b[0;32m--> 280\u001b[0;31m                         \u001b[0mshowarrow\u001b[0m\u001b[0;34m=\u001b[0m\u001b[0;32mFalse\u001b[0m\u001b[0;34m,\u001b[0m\u001b[0;34m\u001b[0m\u001b[0;34m\u001b[0m\u001b[0m\n\u001b[0m\u001b[1;32m    281\u001b[0m                     )\n\u001b[1;32m    282\u001b[0m                 )\n",
            "\u001b[0;32m/usr/local/lib/python3.7/dist-packages/plotly/graph_objs/layout/_annotation.py\u001b[0m in \u001b[0;36m__init__\u001b[0;34m(self, arg, align, arrowcolor, arrowhead, arrowside, arrowsize, arrowwidth, ax, axref, ay, ayref, bgcolor, bordercolor, borderpad, borderwidth, captureevents, clicktoshow, font, height, hoverlabel, hovertext, name, opacity, showarrow, standoff, startarrowhead, startarrowsize, startstandoff, templateitemname, text, textangle, valign, visible, width, x, xanchor, xclick, xref, xshift, y, yanchor, yclick, yref, yshift, **kwargs)\u001b[0m\n\u001b[1;32m   2057\u001b[0m         \u001b[0m_v\u001b[0m \u001b[0;34m=\u001b[0m \u001b[0mxref\u001b[0m \u001b[0;32mif\u001b[0m \u001b[0mxref\u001b[0m \u001b[0;32mis\u001b[0m \u001b[0;32mnot\u001b[0m \u001b[0;32mNone\u001b[0m \u001b[0;32melse\u001b[0m \u001b[0m_v\u001b[0m\u001b[0;34m\u001b[0m\u001b[0;34m\u001b[0m\u001b[0m\n\u001b[1;32m   2058\u001b[0m         \u001b[0;32mif\u001b[0m \u001b[0m_v\u001b[0m \u001b[0;32mis\u001b[0m \u001b[0;32mnot\u001b[0m \u001b[0;32mNone\u001b[0m\u001b[0;34m:\u001b[0m\u001b[0;34m\u001b[0m\u001b[0;34m\u001b[0m\u001b[0m\n\u001b[0;32m-> 2059\u001b[0;31m             \u001b[0mself\u001b[0m\u001b[0;34m[\u001b[0m\u001b[0;34m\"xref\"\u001b[0m\u001b[0;34m]\u001b[0m \u001b[0;34m=\u001b[0m \u001b[0m_v\u001b[0m\u001b[0;34m\u001b[0m\u001b[0;34m\u001b[0m\u001b[0m\n\u001b[0m\u001b[1;32m   2060\u001b[0m         \u001b[0m_v\u001b[0m \u001b[0;34m=\u001b[0m \u001b[0marg\u001b[0m\u001b[0;34m.\u001b[0m\u001b[0mpop\u001b[0m\u001b[0;34m(\u001b[0m\u001b[0;34m\"xshift\"\u001b[0m\u001b[0;34m,\u001b[0m \u001b[0;32mNone\u001b[0m\u001b[0;34m)\u001b[0m\u001b[0;34m\u001b[0m\u001b[0;34m\u001b[0m\u001b[0m\n\u001b[1;32m   2061\u001b[0m         \u001b[0m_v\u001b[0m \u001b[0;34m=\u001b[0m \u001b[0mxshift\u001b[0m \u001b[0;32mif\u001b[0m \u001b[0mxshift\u001b[0m \u001b[0;32mis\u001b[0m \u001b[0;32mnot\u001b[0m \u001b[0;32mNone\u001b[0m \u001b[0;32melse\u001b[0m \u001b[0m_v\u001b[0m\u001b[0;34m\u001b[0m\u001b[0;34m\u001b[0m\u001b[0m\n",
            "\u001b[0;32m/usr/local/lib/python3.7/dist-packages/plotly/basedatatypes.py\u001b[0m in \u001b[0;36m__setitem__\u001b[0;34m(self, prop, value)\u001b[0m\n\u001b[1;32m   4825\u001b[0m                 \u001b[0;31m# ### Handle simple property ###\u001b[0m\u001b[0;34m\u001b[0m\u001b[0;34m\u001b[0m\u001b[0;34m\u001b[0m\u001b[0m\n\u001b[1;32m   4826\u001b[0m                 \u001b[0;32melse\u001b[0m\u001b[0;34m:\u001b[0m\u001b[0;34m\u001b[0m\u001b[0;34m\u001b[0m\u001b[0m\n\u001b[0;32m-> 4827\u001b[0;31m                     \u001b[0mself\u001b[0m\u001b[0;34m.\u001b[0m\u001b[0m_set_prop\u001b[0m\u001b[0;34m(\u001b[0m\u001b[0mprop\u001b[0m\u001b[0;34m,\u001b[0m \u001b[0mvalue\u001b[0m\u001b[0;34m)\u001b[0m\u001b[0;34m\u001b[0m\u001b[0;34m\u001b[0m\u001b[0m\n\u001b[0m\u001b[1;32m   4828\u001b[0m             \u001b[0;32melse\u001b[0m\u001b[0;34m:\u001b[0m\u001b[0;34m\u001b[0m\u001b[0;34m\u001b[0m\u001b[0m\n\u001b[1;32m   4829\u001b[0m                 \u001b[0;31m# Make sure properties dict is initialized\u001b[0m\u001b[0;34m\u001b[0m\u001b[0;34m\u001b[0m\u001b[0;34m\u001b[0m\u001b[0m\n",
            "\u001b[0;32m/usr/local/lib/python3.7/dist-packages/plotly/basedatatypes.py\u001b[0m in \u001b[0;36m_set_prop\u001b[0;34m(self, prop, val)\u001b[0m\n\u001b[1;32m   5164\u001b[0m \u001b[0;34m\u001b[0m\u001b[0m\n\u001b[1;32m   5165\u001b[0m         \u001b[0;32mtry\u001b[0m\u001b[0;34m:\u001b[0m\u001b[0;34m\u001b[0m\u001b[0;34m\u001b[0m\u001b[0m\n\u001b[0;32m-> 5166\u001b[0;31m             \u001b[0mval\u001b[0m \u001b[0;34m=\u001b[0m \u001b[0mvalidator\u001b[0m\u001b[0;34m.\u001b[0m\u001b[0mvalidate_coerce\u001b[0m\u001b[0;34m(\u001b[0m\u001b[0mval\u001b[0m\u001b[0;34m)\u001b[0m\u001b[0;34m\u001b[0m\u001b[0;34m\u001b[0m\u001b[0m\n\u001b[0m\u001b[1;32m   5167\u001b[0m         \u001b[0;32mexcept\u001b[0m \u001b[0mValueError\u001b[0m \u001b[0;32mas\u001b[0m \u001b[0merr\u001b[0m\u001b[0;34m:\u001b[0m\u001b[0;34m\u001b[0m\u001b[0;34m\u001b[0m\u001b[0m\n\u001b[1;32m   5168\u001b[0m             \u001b[0;32mif\u001b[0m \u001b[0mself\u001b[0m\u001b[0;34m.\u001b[0m\u001b[0m_skip_invalid\u001b[0m\u001b[0;34m:\u001b[0m\u001b[0;34m\u001b[0m\u001b[0;34m\u001b[0m\u001b[0m\n",
            "\u001b[0;32m/usr/local/lib/python3.7/dist-packages/_plotly_utils/basevalidators.py\u001b[0m in \u001b[0;36mvalidate_coerce\u001b[0;34m(self, v)\u001b[0m\n\u001b[1;32m    614\u001b[0m                 \u001b[0mv\u001b[0m \u001b[0;34m=\u001b[0m \u001b[0mto_scalar_or_list\u001b[0m\u001b[0;34m(\u001b[0m\u001b[0mv\u001b[0m\u001b[0;34m)\u001b[0m\u001b[0;34m\u001b[0m\u001b[0;34m\u001b[0m\u001b[0m\n\u001b[1;32m    615\u001b[0m         \u001b[0;32melse\u001b[0m\u001b[0;34m:\u001b[0m\u001b[0;34m\u001b[0m\u001b[0;34m\u001b[0m\u001b[0m\n\u001b[0;32m--> 616\u001b[0;31m             \u001b[0mv\u001b[0m \u001b[0;34m=\u001b[0m \u001b[0mself\u001b[0m\u001b[0;34m.\u001b[0m\u001b[0mperform_replacemenet\u001b[0m\u001b[0;34m(\u001b[0m\u001b[0mv\u001b[0m\u001b[0;34m)\u001b[0m\u001b[0;34m\u001b[0m\u001b[0;34m\u001b[0m\u001b[0m\n\u001b[0m\u001b[1;32m    617\u001b[0m             \u001b[0;32mif\u001b[0m \u001b[0;32mnot\u001b[0m \u001b[0mself\u001b[0m\u001b[0;34m.\u001b[0m\u001b[0min_values\u001b[0m\u001b[0;34m(\u001b[0m\u001b[0mv\u001b[0m\u001b[0;34m)\u001b[0m\u001b[0;34m:\u001b[0m\u001b[0;34m\u001b[0m\u001b[0;34m\u001b[0m\u001b[0m\n\u001b[1;32m    618\u001b[0m                 \u001b[0mself\u001b[0m\u001b[0;34m.\u001b[0m\u001b[0mraise_invalid_val\u001b[0m\u001b[0;34m(\u001b[0m\u001b[0mv\u001b[0m\u001b[0;34m)\u001b[0m\u001b[0;34m\u001b[0m\u001b[0;34m\u001b[0m\u001b[0m\n",
            "\u001b[0;32m/usr/local/lib/python3.7/dist-packages/_plotly_utils/basevalidators.py\u001b[0m in \u001b[0;36mperform_replacemenet\u001b[0;34m(self, v)\u001b[0m\n\u001b[1;32m    515\u001b[0m             \u001b[0;32mfor\u001b[0m \u001b[0mrepl_args\u001b[0m \u001b[0;32min\u001b[0m \u001b[0mself\u001b[0m\u001b[0;34m.\u001b[0m\u001b[0mregex_replacements\u001b[0m\u001b[0;34m:\u001b[0m\u001b[0;34m\u001b[0m\u001b[0;34m\u001b[0m\u001b[0m\n\u001b[1;32m    516\u001b[0m                 \u001b[0;32mif\u001b[0m \u001b[0mrepl_args\u001b[0m\u001b[0;34m:\u001b[0m\u001b[0;34m\u001b[0m\u001b[0;34m\u001b[0m\u001b[0m\n\u001b[0;32m--> 517\u001b[0;31m                     \u001b[0mv\u001b[0m \u001b[0;34m=\u001b[0m \u001b[0mre\u001b[0m\u001b[0;34m.\u001b[0m\u001b[0msub\u001b[0m\u001b[0;34m(\u001b[0m\u001b[0mrepl_args\u001b[0m\u001b[0;34m[\u001b[0m\u001b[0;36m0\u001b[0m\u001b[0;34m]\u001b[0m\u001b[0;34m,\u001b[0m \u001b[0mrepl_args\u001b[0m\u001b[0;34m[\u001b[0m\u001b[0;36m1\u001b[0m\u001b[0;34m]\u001b[0m\u001b[0;34m,\u001b[0m \u001b[0mv\u001b[0m\u001b[0;34m)\u001b[0m\u001b[0;34m\u001b[0m\u001b[0;34m\u001b[0m\u001b[0m\n\u001b[0m\u001b[1;32m    518\u001b[0m \u001b[0;34m\u001b[0m\u001b[0m\n\u001b[1;32m    519\u001b[0m         \u001b[0;32mreturn\u001b[0m \u001b[0mv\u001b[0m\u001b[0;34m\u001b[0m\u001b[0;34m\u001b[0m\u001b[0m\n",
            "\u001b[0;32m/usr/lib/python3.7/re.py\u001b[0m in \u001b[0;36msub\u001b[0;34m(pattern, repl, string, count, flags)\u001b[0m\n\u001b[1;32m    192\u001b[0m     \u001b[0ma\u001b[0m \u001b[0mcallable\u001b[0m\u001b[0;34m,\u001b[0m \u001b[0mit\u001b[0m\u001b[0;31m'\u001b[0m\u001b[0ms\u001b[0m \u001b[0mpassed\u001b[0m \u001b[0mthe\u001b[0m \u001b[0mMatch\u001b[0m \u001b[0mobject\u001b[0m \u001b[0;32mand\u001b[0m \u001b[0mmust\u001b[0m \u001b[0;32mreturn\u001b[0m\u001b[0;34m\u001b[0m\u001b[0;34m\u001b[0m\u001b[0m\n\u001b[1;32m    193\u001b[0m     a replacement string to be used.\"\"\"\n\u001b[0;32m--> 194\u001b[0;31m     \u001b[0;32mreturn\u001b[0m \u001b[0m_compile\u001b[0m\u001b[0;34m(\u001b[0m\u001b[0mpattern\u001b[0m\u001b[0;34m,\u001b[0m \u001b[0mflags\u001b[0m\u001b[0;34m)\u001b[0m\u001b[0;34m.\u001b[0m\u001b[0msub\u001b[0m\u001b[0;34m(\u001b[0m\u001b[0mrepl\u001b[0m\u001b[0;34m,\u001b[0m \u001b[0mstring\u001b[0m\u001b[0;34m,\u001b[0m \u001b[0mcount\u001b[0m\u001b[0;34m)\u001b[0m\u001b[0;34m\u001b[0m\u001b[0;34m\u001b[0m\u001b[0m\n\u001b[0m\u001b[1;32m    195\u001b[0m \u001b[0;34m\u001b[0m\u001b[0m\n\u001b[1;32m    196\u001b[0m \u001b[0;32mdef\u001b[0m \u001b[0msubn\u001b[0m\u001b[0;34m(\u001b[0m\u001b[0mpattern\u001b[0m\u001b[0;34m,\u001b[0m \u001b[0mrepl\u001b[0m\u001b[0;34m,\u001b[0m \u001b[0mstring\u001b[0m\u001b[0;34m,\u001b[0m \u001b[0mcount\u001b[0m\u001b[0;34m=\u001b[0m\u001b[0;36m0\u001b[0m\u001b[0;34m,\u001b[0m \u001b[0mflags\u001b[0m\u001b[0;34m=\u001b[0m\u001b[0;36m0\u001b[0m\u001b[0;34m)\u001b[0m\u001b[0;34m:\u001b[0m\u001b[0;34m\u001b[0m\u001b[0;34m\u001b[0m\u001b[0m\n",
            "\u001b[0;31mKeyboardInterrupt\u001b[0m: "
          ]
        }
      ]
    }
  ]
}